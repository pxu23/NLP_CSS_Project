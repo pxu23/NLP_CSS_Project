{
 "cells": [
  {
   "cell_type": "code",
   "execution_count": 25,
   "metadata": {},
   "outputs": [],
   "source": [
    "import pandas as pd"
   ]
  },
  {
   "cell_type": "code",
   "execution_count": 26,
   "metadata": {},
   "outputs": [],
   "source": [
    "df = pd.read_parquet(\"acl-publication-info.74k.v2.parquet\")"
   ]
  },
  {
   "cell_type": "code",
   "execution_count": 27,
   "metadata": {},
   "outputs": [
    {
     "data": {
      "text/plain": [
       "0         14\n",
       "1         93\n",
       "2         10\n",
       "3         15\n",
       "4         12\n",
       "        ... \n",
       "73280     11\n",
       "73281     12\n",
       "73282     14\n",
       "73283     92\n",
       "73284    330\n",
       "Name: numcitedby, Length: 73285, dtype: int64"
      ]
     },
     "execution_count": 27,
     "metadata": {},
     "output_type": "execute_result"
    }
   ],
   "source": [
    "df['numcitedby']"
   ]
  },
  {
   "cell_type": "code",
   "execution_count": 28,
   "metadata": {},
   "outputs": [
    {
     "data": {
      "text/plain": [
       "0        There is a need to measure word similarity whe...\n",
       "1                                                     None\n",
       "2        Thread disentanglement is the task of separati...\n",
       "3        In this paper, we describe a word alignment al...\n",
       "4                                                     None\n",
       "                               ...                        \n",
       "73280    This paper describes recent progress and the a...\n",
       "73281    We present an LFG-DOP parser which uses fragme...\n",
       "73282    The processes through which readers evoke ment...\n",
       "73283    This paper examines the extent to which verb d...\n",
       "73284    Spoken dialogue managers have benefited from u...\n",
       "Name: full_text, Length: 73285, dtype: object"
      ]
     },
     "execution_count": 28,
     "metadata": {},
     "output_type": "execute_result"
    }
   ],
   "source": [
    "df['full_text']"
   ]
  },
  {
   "cell_type": "code",
   "execution_count": 29,
   "metadata": {},
   "outputs": [
    {
     "name": "stdout",
     "output_type": "stream",
     "text": [
      "Columns are Index(['acl_id', 'abstract', 'full_text', 'corpus_paper_id', 'pdf_hash',\n",
      "       'numcitedby', 'url', 'publisher', 'address', 'year', 'month',\n",
      "       'booktitle', 'author', 'title', 'pages', 'doi', 'number', 'volume',\n",
      "       'journal', 'editor', 'isbn', 'ENTRYTYPE', 'ID', 'language', 'note'],\n",
      "      dtype='object')\n",
      "number of papers is 73285\n",
      "unique languages are [None 'English' 'French' 'Chinese' 'German' 'Portuguese (Brazil)']\n",
      "number of unique publishers are 112\n",
      "journals are [None 'American Journal of Computational Linguistics'\n",
      " 'Computational Linguistics'\n",
      " 'Transactions of the Association for Computational Linguistics']\n"
     ]
    }
   ],
   "source": [
    "# get the columns of the dataset\n",
    "\n",
    "print(f\"Columns are {df.columns}\")\n",
    "\n",
    "# shape of the dataset (number of papers)\n",
    "num_papers = df.shape[0]\n",
    "print(f\"number of papers is {num_papers}\")\n",
    "\n",
    "# unique languages\n",
    "unique_languages = df['language'].unique()\n",
    "print(f\"unique languages are {unique_languages}\")\n",
    "\n",
    "# the publishers\n",
    "unique_publishers = len(df['publisher'].unique())\n",
    "print(f\"number of unique publishers are {unique_publishers}\")\n",
    "\n",
    "# the journals\n",
    "unique_journals = df['journal'].unique()\n",
    "print(f\"journals are {unique_journals}\")"
   ]
  },
  {
   "cell_type": "code",
   "execution_count": 30,
   "metadata": {},
   "outputs": [
    {
     "name": "stdout",
     "output_type": "stream",
     "text": [
      "For the American Journal of Computational Linguistics, there are 328 papers with average 22.96 citations\n",
      "For the Computational Linguistics, there are 1376 papers with average 112.77 citations\n",
      "For the Transactions of the Association for Computational Linguistics, there are 333 papers with average 113.14 citations\n",
      "Total number of journal papers is 2037\n"
     ]
    }
   ],
   "source": [
    "# summary statistics\n",
    "# First we are interested in the average number of citations of papers for each of the journals\n",
    "# get the average number of citations for the American Journal of Computational Linguistics\n",
    "american_journal_comp_ling = df.loc[df['journal'] == 'American Journal of Computational Linguistics']\n",
    "num_papers_american_journal_comp_ling = american_journal_comp_ling.shape[0]\n",
    "mean_citation = round(american_journal_comp_ling['numcitedby'].mean(),2)\n",
    "print(f\"For the American Journal of Computational Linguistics, there are {num_papers_american_journal_comp_ling} papers with average {mean_citation} citations\")\n",
    "\n",
    "# the average number of citations for a paper in Computational Linguistics\n",
    "comp_ling = df.loc[df['journal'] == 'Computational Linguistics']\n",
    "num_papers_comp_ling = comp_ling.shape[0]\n",
    "mean_citation = round(comp_ling['numcitedby'].mean(),2)\n",
    "print(f\"For the Computational Linguistics, there are {num_papers_comp_ling} papers with average {mean_citation} citations\")\n",
    "\n",
    "# the average number of citations for a paper in Transactions of the Association for Computational Linguistics\n",
    "trans_acl = df.loc[df['journal'] == 'Transactions of the Association for Computational Linguistics']\n",
    "num_papers_trans_acl = trans_acl.shape[0]\n",
    "mean_citation = round(trans_acl['numcitedby'].mean(),2)\n",
    "print(f\"For the Transactions of the Association for Computational Linguistics, there are {num_papers_trans_acl} papers with average {mean_citation} citations\")\n",
    "\n",
    "num_papers_in_journals = num_papers_american_journal_comp_ling + num_papers_comp_ling + num_papers_trans_acl\n",
    "print(f\"Total number of journal papers is {num_papers_in_journals}\")"
   ]
  },
  {
   "cell_type": "code",
   "execution_count": 31,
   "metadata": {},
   "outputs": [
    {
     "name": "stdout",
     "output_type": "stream",
     "text": [
      "For the English papers, there are 1371 with average of 6.46 citations\n",
      "For the French papers, there are 1453 papers with average of 3.37 citations\n",
      "For the Chinese papers, there are 188 papers with average of 0.12 citations\n",
      "For the German papers, there are 6 papers with average of 0.17 citations\n",
      "For the Portuguese papers, there are 2 papers with average of 0.0 citations\n"
     ]
    }
   ],
   "source": [
    "# number of papers for each language\n",
    "# english\n",
    "english_papers = df.loc[df['language'] == 'English']\n",
    "num_english_papers = english_papers.shape[0]\n",
    "mean_citation_english_paper = round(english_papers['numcitedby'].mean(),2)\n",
    "print(f\"For the English papers, there are {num_english_papers} with average of {mean_citation_english_paper} citations\")\n",
    "\n",
    "# french\n",
    "french_papers = df.loc[df['language'] == 'French']\n",
    "num_french_papers = french_papers.shape[0]\n",
    "mean_citation_french_paper = round(french_papers['numcitedby'].mean(),2)\n",
    "print(f\"For the French papers, there are {num_french_papers} papers with average of {mean_citation_french_paper} citations\")\n",
    "\n",
    "# chinese\n",
    "chinese_papers = df.loc[df['language'] == 'Chinese']\n",
    "num_chinese_papers = chinese_papers.shape[0]\n",
    "mean_citation_chinese_paper = round(chinese_papers['numcitedby'].mean(),2)\n",
    "print(f\"For the Chinese papers, there are {num_chinese_papers} papers with average of {mean_citation_chinese_paper} citations\")\n",
    "\n",
    "# german\n",
    "german_papers = df.loc[df['language'] == 'German']\n",
    "num_german_papers = german_papers.shape[0]\n",
    "mean_citation_german_paper = round(german_papers['numcitedby'].mean(),2)\n",
    "print(f\"For the German papers, there are {num_german_papers} papers with average of {mean_citation_german_paper} citations\")\n",
    "\n",
    "# portuguese\n",
    "portuguese_papers = df.loc[df['language'] == 'Portuguese (Brazil)']\n",
    "num_portuguese_papers = portuguese_papers.shape[0]\n",
    "mean_citation_portuguese_paper = round(portuguese_papers['numcitedby'].mean(),2)\n",
    "print(f\"For the Portuguese papers, there are {num_portuguese_papers} papers with average of {mean_citation_portuguese_paper} citations\")\n"
   ]
  },
  {
   "cell_type": "code",
   "execution_count": 32,
   "metadata": {},
   "outputs": [
    {
     "data": {
      "text/plain": [
       "59809"
      ]
     },
     "execution_count": 32,
     "metadata": {},
     "output_type": "execute_result"
    }
   ],
   "source": [
    "# authors (number of authors who have contributed a paper)\n",
    "authors = df['author'].unique()\n",
    "len(authors)"
   ]
  },
  {
   "cell_type": "code",
   "execution_count": 33,
   "metadata": {},
   "outputs": [
    {
     "data": {
      "text/html": [
       "<div>\n",
       "<style scoped>\n",
       "    .dataframe tbody tr th:only-of-type {\n",
       "        vertical-align: middle;\n",
       "    }\n",
       "\n",
       "    .dataframe tbody tr th {\n",
       "        vertical-align: top;\n",
       "    }\n",
       "\n",
       "    .dataframe thead th {\n",
       "        text-align: right;\n",
       "    }\n",
       "</style>\n",
       "<table border=\"1\" class=\"dataframe\">\n",
       "  <thead>\n",
       "    <tr style=\"text-align: right;\">\n",
       "      <th></th>\n",
       "      <th>year</th>\n",
       "      <th>month</th>\n",
       "    </tr>\n",
       "  </thead>\n",
       "  <tbody>\n",
       "    <tr>\n",
       "      <th>0</th>\n",
       "      <td>2002</td>\n",
       "      <td>August</td>\n",
       "    </tr>\n",
       "    <tr>\n",
       "      <th>1</th>\n",
       "      <td>2002</td>\n",
       "      <td>May</td>\n",
       "    </tr>\n",
       "    <tr>\n",
       "      <th>2</th>\n",
       "      <td>2013</td>\n",
       "      <td>September</td>\n",
       "    </tr>\n",
       "    <tr>\n",
       "      <th>3</th>\n",
       "      <td>2005</td>\n",
       "      <td>June</td>\n",
       "    </tr>\n",
       "    <tr>\n",
       "      <th>4</th>\n",
       "      <td>2002</td>\n",
       "      <td>May</td>\n",
       "    </tr>\n",
       "    <tr>\n",
       "      <th>...</th>\n",
       "      <td>...</td>\n",
       "      <td>...</td>\n",
       "    </tr>\n",
       "    <tr>\n",
       "      <th>73280</th>\n",
       "      <td>1999</td>\n",
       "      <td>June</td>\n",
       "    </tr>\n",
       "    <tr>\n",
       "      <th>73281</th>\n",
       "      <td>2000</td>\n",
       "      <td>October</td>\n",
       "    </tr>\n",
       "    <tr>\n",
       "      <th>73282</th>\n",
       "      <td>1999</td>\n",
       "      <td>June</td>\n",
       "    </tr>\n",
       "    <tr>\n",
       "      <th>73283</th>\n",
       "      <td>1999</td>\n",
       "      <td>June</td>\n",
       "    </tr>\n",
       "    <tr>\n",
       "      <th>73284</th>\n",
       "      <td>2000</td>\n",
       "      <td>October</td>\n",
       "    </tr>\n",
       "  </tbody>\n",
       "</table>\n",
       "<p>73285 rows × 2 columns</p>\n",
       "</div>"
      ],
      "text/plain": [
       "       year      month\n",
       "0      2002     August\n",
       "1      2002        May\n",
       "2      2013  September\n",
       "3      2005       June\n",
       "4      2002        May\n",
       "...     ...        ...\n",
       "73280  1999       June\n",
       "73281  2000    October\n",
       "73282  1999       June\n",
       "73283  1999       June\n",
       "73284  2000    October\n",
       "\n",
       "[73285 rows x 2 columns]"
      ]
     },
     "execution_count": 33,
     "metadata": {},
     "output_type": "execute_result"
    }
   ],
   "source": [
    "df[['year','month']]"
   ]
  },
  {
   "cell_type": "code",
   "execution_count": 34,
   "metadata": {},
   "outputs": [
    {
     "data": {
      "text/plain": [
       "pandas.core.series.Series"
      ]
     },
     "execution_count": 34,
     "metadata": {},
     "output_type": "execute_result"
    }
   ],
   "source": [
    "years = df[['year']]\n",
    "\n",
    "\n",
    "num_papers_each_year_after_2000 = years.loc[years['year'] >= '2000'].value_counts()\n",
    "\n",
    "recent_years = years.loc[years['year'] >= '2000']\n",
    "\n",
    "recent_years_keys = recent_years['year'].sort_values().unique()\n",
    "type(num_papers_each_year_after_2000)\n",
    "\n",
    "#sns.barplot()\n",
    "#num_papers_each_year_after_2000.values, num_papers_each_year_after_2000.keys().numpy()"
   ]
  },
  {
   "cell_type": "code",
   "execution_count": 35,
   "metadata": {},
   "outputs": [
    {
     "data": {
      "text/html": [
       "<div>\n",
       "<style scoped>\n",
       "    .dataframe tbody tr th:only-of-type {\n",
       "        vertical-align: middle;\n",
       "    }\n",
       "\n",
       "    .dataframe tbody tr th {\n",
       "        vertical-align: top;\n",
       "    }\n",
       "\n",
       "    .dataframe thead th {\n",
       "        text-align: right;\n",
       "    }\n",
       "</style>\n",
       "<table border=\"1\" class=\"dataframe\">\n",
       "  <thead>\n",
       "    <tr style=\"text-align: right;\">\n",
       "      <th></th>\n",
       "      <th>year</th>\n",
       "    </tr>\n",
       "  </thead>\n",
       "  <tbody>\n",
       "    <tr>\n",
       "      <th>0</th>\n",
       "      <td>2002</td>\n",
       "    </tr>\n",
       "    <tr>\n",
       "      <th>2</th>\n",
       "      <td>2013</td>\n",
       "    </tr>\n",
       "    <tr>\n",
       "      <th>3</th>\n",
       "      <td>2005</td>\n",
       "    </tr>\n",
       "    <tr>\n",
       "      <th>16</th>\n",
       "      <td>2009</td>\n",
       "    </tr>\n",
       "    <tr>\n",
       "      <th>23</th>\n",
       "      <td>2018</td>\n",
       "    </tr>\n",
       "    <tr>\n",
       "      <th>...</th>\n",
       "      <td>...</td>\n",
       "    </tr>\n",
       "    <tr>\n",
       "      <th>48702</th>\n",
       "      <td>1962</td>\n",
       "    </tr>\n",
       "    <tr>\n",
       "      <th>48721</th>\n",
       "      <td>1952</td>\n",
       "    </tr>\n",
       "    <tr>\n",
       "      <th>49278</th>\n",
       "      <td>1971</td>\n",
       "    </tr>\n",
       "    <tr>\n",
       "      <th>62805</th>\n",
       "      <td>1956</td>\n",
       "    </tr>\n",
       "    <tr>\n",
       "      <th>62810</th>\n",
       "      <td>1963</td>\n",
       "    </tr>\n",
       "  </tbody>\n",
       "</table>\n",
       "<p>61 rows × 1 columns</p>\n",
       "</div>"
      ],
      "text/plain": [
       "       year\n",
       "0      2002\n",
       "2      2013\n",
       "3      2005\n",
       "16     2009\n",
       "23     2018\n",
       "...     ...\n",
       "48702  1962\n",
       "48721  1952\n",
       "49278  1971\n",
       "62805  1956\n",
       "62810  1963\n",
       "\n",
       "[61 rows x 1 columns]"
      ]
     },
     "execution_count": 35,
     "metadata": {},
     "output_type": "execute_result"
    }
   ],
   "source": [
    "years = df[['year']]\n",
    "years.drop_duplicates()"
   ]
  },
  {
   "cell_type": "code",
   "execution_count": 36,
   "metadata": {},
   "outputs": [],
   "source": [
    "df.sort_values(by='year',inplace=True)"
   ]
  },
  {
   "cell_type": "code",
   "execution_count": 43,
   "metadata": {},
   "outputs": [
    {
     "data": {
      "text/plain": [
       "Text(0, 0.5, 'Number of Papers')"
      ]
     },
     "execution_count": 43,
     "metadata": {},
     "output_type": "execute_result"
    },
    {
     "data": {
      "image/png": "[encoded data removed]",
      "text/plain": [
       "<Figure size 1000x500 with 1 Axes>"
      ]
     },
     "metadata": {},
     "output_type": "display_data"
    }
   ],
   "source": [
    "# plot it in a bar chart for visualization purposes\n",
    "import matplotlib.pyplot as plt\n",
    "plt.figure(figsize=(10,5))\n",
    "df['year'].value_counts()[df.year.unique()].plot(kind=\"bar\")\n",
    "plt.xticks(rotation='vertical')\n",
    "plt.xlabel(\"Year\")\n",
    "plt.ylabel(\"Number of Papers\")"
   ]
  },
  {
   "cell_type": "code",
   "execution_count": null,
   "metadata": {},
   "outputs": [],
   "source": []
  }
 ],
 "metadata": {
  "kernelspec": {
   "display_name": "base",
   "language": "python",
   "name": "python3"
  },
  "language_info": {
   "codemirror_mode": {
    "name": "ipython",
    "version": 3
   },
   "file_extension": ".py",
   "mimetype": "text/x-python",
   "name": "python",
   "nbconvert_exporter": "python",
   "pygments_lexer": "ipython3",
   "version": "3.11.5"
  }
 },
 "nbformat": 4,
 "nbformat_minor": 2
}
